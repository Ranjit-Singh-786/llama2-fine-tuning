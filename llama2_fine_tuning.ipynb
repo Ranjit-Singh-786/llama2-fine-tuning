{
 "cells": [
  {
   "cell_type": "code",
   "execution_count": 4,
   "metadata": {},
   "outputs": [],
   "source": [
    "import os\n",
    "from dotenv import load_dotenv\n",
    "load_dotenv()\n"
   ]
  },
  {
   "cell_type": "code",
   "execution_count": 7,
   "metadata": {},
   "outputs": [],
   "source": [
    "## Get your workspace_id & access_token from gradientai portal, this is free\n",
    "os.environ['GRADIENT_WORKSPACE_ID'] = \"523287db-c6f3-471b-ab07-1f2d02a\"\n",
    "os.environ['GRADIENT_ACCESS_TOKEN'] = \"6ETrD5DjCL0w6PiZbtfeS\""
   ]
  },
  {
   "cell_type": "code",
   "execution_count": 10,
   "metadata": {},
   "outputs": [
    {
     "name": "stdout",
     "output_type": "stream",
     "text": [
      "523287db-c6f3-471b-ab07-1f2d02aa19f2_workspace\n",
      "6ETrD5DjCL0w6PiZbtfeSFhwSVsRsWqE\n"
     ]
    }
   ],
   "source": [
    "print(os.getenv('GRADIENT_WORKSPACE_ID'))\n",
    "print(os.getenv('GRADIENT_ACCESS_TOKEN'))"
   ]
  },
  {
   "cell_type": "markdown",
   "metadata": {},
   "source": [
    "### Get response from llama2-7b-chat Pre-Trained model.\n"
   ]
  },
  {
   "cell_type": "code",
   "execution_count": 20,
   "metadata": {},
   "outputs": [
    {
     "name": "stdout",
     "output_type": "stream",
     "text": [
      "Created model adapter with id 320b99ec-9cf5-4ac7-bb0f-7aa9b56c4af9_model_adapter\n",
      " Kriesh Naik is a well-known Indian YouTuber and social media influencer.\n"
     ]
    }
   ],
   "source": [
    "from dotenv import load_dotenv\n",
    "load_dotenv()\n",
    "from gradientai import Gradient\n",
    "\n",
    "\n",
    "def Get_response_llm():\n",
    "    gradient = Gradient()\n",
    "    model_name = \"llama2-7b-chat\"\n",
    "    base_model = gradient.get_base_model(base_model_slug=model_name)\n",
    "\n",
    "    model_adapter = base_model.create_model_adapter(\n",
    "        name=\"llama2_pretrained\"\n",
    "    )\n",
    "    print(f\"Created model adapter with id {model_adapter.id}\")\n",
    "    sample_query = \"### Instruction: Who is kriesh naik ? \\n\\n ### Response:\"\n",
    "\n",
    "    answer = model_adapter.complete(query=sample_query,max_generated_token_count=100).generated_output\n",
    "    print(answer)\n",
    "\n",
    "Get_response_llm()"
   ]
  },
  {
   "cell_type": "markdown",
   "metadata": {},
   "source": [
    "### Fine-Tuned llama2-7b-chat Pre-Trained model."
   ]
  },
  {
   "cell_type": "code",
   "execution_count": 19,
   "metadata": {},
   "outputs": [
    {
     "name": "stdout",
     "output_type": "stream",
     "text": [
      "Fine-Tuning epochs :1\n",
      "Fine-Tuning epochs :2\n",
      "Fine-Tuning epochs :3\n",
      "Fine-Tuning epochs :4\n",
      "Fine-Tuning epochs :5\n",
      "Asking: could you please tell me about Ranjit Singh ?\n",
      "Generated:  \n",
      "\n",
      " Ranjit singh is a data scientist at upflairs.com. Ranjit Singh is a data scientist at upflairs.com. Ranjit Singh is a data scientist at upflairs.com. Ranjit Singh is a data scientist at upflairs.com. Ranjit Singh is a data scientist at upflairs.com. Ranjit Singh is a data scientist at up\n"
     ]
    }
   ],
   "source": [
    "from dotenv import load_dotenv\n",
    "from gradientai import Gradient\n",
    "load_dotenv()\n",
    "\n",
    "\n",
    "def main():\n",
    "    gradient = Gradient()\n",
    "    model_name = \"llama2-7b-chat\"\n",
    "    base_model = gradient.get_base_model(base_model_slug=model_name)\n",
    "\n",
    "    model_adapter = base_model.create_model_adapter(\n",
    "        name=\"llama2_fine_tune\"\n",
    "    )\n",
    "  \n",
    "#### Make your dataset for fine-tuning\n",
    "    sample_queries = [\n",
    "        {\"inputs\":\"### Instruction:Who is Ranjeet Singh ? \\n\\n### Response: Ranjit singh is a data scientist at upflairs.\"},\n",
    "        {\"inputs\":\"### Instruction:tell me about Ranjit Singh ? \\n\\n### Response: Ranjit singh is a passinate about data science and machine learning\"},\n",
    "        {\"inputs\":\"### Instruction:what is the natur of Ranjit singh ? \\n\\n### Response: Ranjit sigh is a good boy, he always respect to other peoples\"},\n",
    "        {\"inputs\":\"### Instruction:What Ranjit singh can do for you ? \\n\\n### Response: Ranjit singh can help you in develop ai and machine learning project.\"},\n",
    "        {\"inputs\":\"### Instruction:What the job role of Ranjit singh? \\n\\n### Response: Ranjit Singh is Data scientist , and Data Science Trainer at uplfairs\"}]\n",
    "\n",
    "### re-training the llama2-7b-chat model with our custome dataset\n",
    "    epochs = 5 \n",
    "    count = 0 \n",
    "    while count<epochs:\n",
    "        print(f\"Fine-Tuning epochs :{count+1}\")\n",
    "        model_adapter.fine_tune(samples=sample_queries)\n",
    "        count += 1\n",
    "\n",
    "## Testing on the new unseen input data point\n",
    "    sample_query = \"could you please tell me about Ranjit Singh ?\"\n",
    "    print(f\"Asking: {sample_query}\")\n",
    "\n",
    "    completion = model_adapter.complete(query=sample_query, max_generated_token_count=100).generated_output\n",
    "    print(f\"Generated: {completion}\")\n",
    "\n",
    "    model_adapter.delete()\n",
    "    gradient.close()\n",
    "\n",
    "if __name__==\"__main__\":\n",
    "    main()\n"
   ]
  },
  {
   "cell_type": "markdown",
   "metadata": {},
   "source": [
    "### Fine-Tuned nous-hermes2 Pre-Trained model.\n"
   ]
  },
  {
   "cell_type": "code",
   "execution_count": 25,
   "metadata": {},
   "outputs": [
    {
     "name": "stdout",
     "output_type": "stream",
     "text": [
      "Fine-Tuning epochs :1\n",
      "Fine-Tuning epochs :2\n",
      "Fine-Tuning epochs :3\n",
      "Fine-Tuning epochs :4\n",
      "Fine-Tuning epochs :5\n",
      "Asking: could you please tell me about Ranjit Singh ?\n",
      "Generated:  \n",
      "\n",
      "\n",
      "### Response: Ranjit singh is a data scientist at upflairs.com. Ranjit has expertise in data science, machine learning and data visualization. Ranj Instruction: Ranjit singh is a data scientist at upflairs.com. Ranjit has expertise in data science, machine learning and data\n"
     ]
    }
   ],
   "source": [
    "from dotenv import load_dotenv\n",
    "load_dotenv()\n",
    "from gradientai import Gradient\n",
    "\n",
    "def main():\n",
    "    gradient = Gradient()\n",
    "    model_name = \"llama2-7b-chat\"\n",
    "    model_name2 = \"nous-hermes2\"\n",
    "    base_model = gradient.get_base_model(base_model_slug=model_name2)\n",
    "\n",
    "    model_adapter = base_model.create_model_adapter(\n",
    "        name=\"nous_hermes2finetuning\"\n",
    "    )\n",
    "  \n",
    "#### Make your dataset for fine-tuning\n",
    "    sample_queries = [\n",
    "        {\"inputs\":\"### Instruction:Who is Ranjeet Singh ? \\n\\n### Response: Ranjit singh is a data scientist at upflairs.\"},\n",
    "        {\"inputs\":\"### Instruction:tell me about Ranjit Singh ? \\n\\n### Response: Ranjit singh is a passinate about data science and machine learning\"},\n",
    "        {\"inputs\":\"### Instruction:what is the natur of Ranjit singh ? \\n\\n### Response: Ranjit sigh is a good boy, he always respect to other peoples\"},\n",
    "        {\"inputs\":\"### Instruction:What Ranjit singh can do for you ? \\n\\n### Response: Ranjit singh can help you in develop ai and machine learning project.\"},\n",
    "        {\"inputs\":\"### Instruction:What the job role of Ranjit singh? \\n\\n### Response: Ranjit Singh is Data scientist , and Data Science Trainer at uplfairs\"}]\n",
    "\n",
    "### re-training the llama2-7b-chat model with our custome dataset\n",
    "    epochs = 5 \n",
    "    count = 0 \n",
    "    while count<epochs:\n",
    "        print(f\"Fine-Tuning epochs :{count+1}\")\n",
    "        model_adapter.fine_tune(samples=sample_queries)\n",
    "        count += 1\n",
    "\n",
    "## Testing on the new unseen input data point\n",
    "    sample_query = \"could you please tell me about Ranjit Singh ?\"\n",
    "    print(f\"Asking: {sample_query}\")\n",
    "\n",
    "    completion = model_adapter.complete(query=sample_query,max_generated_token_count=80).generated_output\n",
    "    print(f\"Generated: {completion}\")\n",
    "\n",
    "    return model_adapter\n",
    "model_adapter = main()\n"
   ]
  },
  {
   "cell_type": "markdown",
   "metadata": {},
   "source": [
    "THANK YOU "
   ]
  }
 ],
 "metadata": {
  "kernelspec": {
   "display_name": "Python 3",
   "language": "python",
   "name": "python3"
  },
  "language_info": {
   "codemirror_mode": {
    "name": "ipython",
    "version": 3
   },
   "file_extension": ".py",
   "mimetype": "text/x-python",
   "name": "python",
   "nbconvert_exporter": "python",
   "pygments_lexer": "ipython3",
   "version": "3.10.12"
  }
 },
 "nbformat": 4,
 "nbformat_minor": 2
}
